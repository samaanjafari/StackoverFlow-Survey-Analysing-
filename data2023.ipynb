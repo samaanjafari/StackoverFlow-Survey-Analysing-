{
 "cells": [
  {
   "cell_type": "code",
   "execution_count": 1,
   "id": "4f12faad-8c11-4d0d-b3d9-98830812b571",
   "metadata": {},
   "outputs": [],
   "source": [
    "import pandas as pd"
   ]
  },
  {
   "cell_type": "code",
   "execution_count": 2,
   "id": "935db88c-fb41-4c18-9ca4-275257a00ac8",
   "metadata": {},
   "outputs": [],
   "source": [
    "df = pd.read_csv('data/surveyres2023.csv' , index_col='ResponseId')\n",
    "df_schema = pd.read_csv('data/surveyschema2023.csv')"
   ]
  },
  {
   "cell_type": "code",
   "execution_count": 3,
   "id": "76706f82-fb86-40f9-ad1c-dba8848937e3",
   "metadata": {},
   "outputs": [],
   "source": [
    "pd.set_option('display.max_columns' , 84)\n",
    "pd.set_option('display.max_rows' , 84)"
   ]
  },
  {
   "cell_type": "code",
   "execution_count": 4,
   "id": "cb6ad173-64eb-4da4-a365-20c12a17b078",
   "metadata": {},
   "outputs": [
    {
     "data": {
      "text/plain": [
       "15                             Including any education, how many years have you been coding in total?\n",
       "16    NOT including education, how many years have you coded professionally (as a part of your work)?\n",
       "Name: question, dtype: object"
      ]
     },
     "execution_count": 4,
     "metadata": {},
     "output_type": "execute_result"
    }
   ],
   "source": [
    "pd.set_option('display.max_colwidth', None)\n",
    "df_schema.loc[[15,16],'question']"
   ]
  },
  {
   "cell_type": "code",
   "execution_count": 5,
   "id": "09e75ddf-d3a7-4d6b-8b0b-c5965f525865",
   "metadata": {
    "scrolled": true
   },
   "outputs": [],
   "source": [
    "df_schema = pd.read_csv('data/surveyschema2023.csv' , index_col = 'qname' )"
   ]
  },
  {
   "cell_type": "code",
   "execution_count": 6,
   "id": "b11920b6-fe44-4c19-bdbf-44088928fcaf",
   "metadata": {},
   "outputs": [],
   "source": [
    "df_schema.drop([\"S0\",\"S1\",\"S2\",\"S3\",\"S4\",\"S5\",\"S6\",\"S7\",\"Q120\",\"Q310\"] , inplace = True)"
   ]
  },
  {
   "cell_type": "code",
   "execution_count": 7,
   "id": "aff2dd79-c75c-46bb-a20d-5da78004e820",
   "metadata": {},
   "outputs": [],
   "source": [
    "df_schema = df_schema.drop(columns=['type', 'selector' , 'qid' , 'force_resp'])"
   ]
  },
  {
   "cell_type": "code",
   "execution_count": 8,
   "id": "8452eb0f-9a24-43c3-b194-39af90d8cb82",
   "metadata": {
    "scrolled": true
   },
   "outputs": [
    {
     "data": {
      "text/html": [
       "<div>\n",
       "<style scoped>\n",
       "    .dataframe tbody tr th:only-of-type {\n",
       "        vertical-align: middle;\n",
       "    }\n",
       "\n",
       "    .dataframe tbody tr th {\n",
       "        vertical-align: top;\n",
       "    }\n",
       "\n",
       "    .dataframe thead th {\n",
       "        text-align: right;\n",
       "    }\n",
       "</style>\n",
       "<table border=\"1\" class=\"dataframe\">\n",
       "  <thead>\n",
       "    <tr style=\"text-align: right;\">\n",
       "      <th></th>\n",
       "      <th>question</th>\n",
       "    </tr>\n",
       "    <tr>\n",
       "      <th>qname</th>\n",
       "      <th></th>\n",
       "    </tr>\n",
       "  </thead>\n",
       "  <tbody>\n",
       "    <tr>\n",
       "      <th>MetaInfo</th>\n",
       "      <td>Browser Meta Info</td>\n",
       "    </tr>\n",
       "    <tr>\n",
       "      <th>MainBranch</th>\n",
       "      <td>Which of the following options best describes you today? For the purpose of this survey, a developer is \"someone who writes code\". *</td>\n",
       "    </tr>\n",
       "    <tr>\n",
       "      <th>Age</th>\n",
       "      <td>What is your age? *</td>\n",
       "    </tr>\n",
       "    <tr>\n",
       "      <th>Employment</th>\n",
       "      <td>Which of the following best describes your current employment status? Select all that apply.</td>\n",
       "    </tr>\n",
       "    <tr>\n",
       "      <th>RemoteWork</th>\n",
       "      <td>Which best describes your current work situation?</td>\n",
       "    </tr>\n",
       "  </tbody>\n",
       "</table>\n",
       "</div>"
      ],
      "text/plain": [
       "                                                                                                                                        question\n",
       "qname                                                                                                                                           \n",
       "MetaInfo                                                                                                                       Browser Meta Info\n",
       "MainBranch  Which of the following options best describes you today? For the purpose of this survey, a developer is \"someone who writes code\". *\n",
       "Age                                                                                                                          What is your age? *\n",
       "Employment                                          Which of the following best describes your current employment status? Select all that apply.\n",
       "RemoteWork                                                                                     Which best describes your current work situation?"
      ]
     },
     "execution_count": 8,
     "metadata": {},
     "output_type": "execute_result"
    }
   ],
   "source": [
    "df_schema.head(5)"
   ]
  },
  {
   "cell_type": "code",
   "execution_count": 9,
   "id": "97fcfa6c-1e85-4924-b508-ce25dcd42bca",
   "metadata": {},
   "outputs": [
    {
     "data": {
      "text/plain": [
       "ResponseId\n",
       "1                NaN\n",
       "2                USA\n",
       "3                USA\n",
       "4                USA\n",
       "5        Philippines\n",
       "            ...     \n",
       "89180         Brazil\n",
       "89181        Romania\n",
       "89182         Israel\n",
       "89183    Switzerland\n",
       "89184           Iran\n",
       "Name: Country, Length: 89184, dtype: object"
      ]
     },
     "execution_count": 9,
     "metadata": {},
     "output_type": "execute_result"
    }
   ],
   "source": [
    "#df['Country'] = df['Country'].apply(lambda x:'USA' if x=='United States of America' else 'Iran' if x=='Iran, Islamic Republic of...' else x )\n",
    "#esier way:\n",
    "df['Country'] = df['Country'].replace({'United States of America':'USA' ,'Iran, Islamic Republic of...': 'Iran'})\n",
    "df['Country']"
   ]
  },
  {
   "cell_type": "code",
   "execution_count": 10,
   "id": "59d86d63-14b5-49b8-838f-7b21781c7843",
   "metadata": {},
   "outputs": [
    {
     "data": {
      "text/html": [
       "<div>\n",
       "<style scoped>\n",
       "    .dataframe tbody tr th:only-of-type {\n",
       "        vertical-align: middle;\n",
       "    }\n",
       "\n",
       "    .dataframe tbody tr th {\n",
       "        vertical-align: top;\n",
       "    }\n",
       "\n",
       "    .dataframe thead th {\n",
       "        text-align: right;\n",
       "    }\n",
       "</style>\n",
       "<table border=\"1\" class=\"dataframe\">\n",
       "  <thead>\n",
       "    <tr style=\"text-align: right;\">\n",
       "      <th></th>\n",
       "      <th>CompTotal</th>\n",
       "      <th>LanguageHaveWorkedWith</th>\n",
       "      <th>Country</th>\n",
       "    </tr>\n",
       "    <tr>\n",
       "      <th>ResponseId</th>\n",
       "      <th></th>\n",
       "      <th></th>\n",
       "      <th></th>\n",
       "    </tr>\n",
       "  </thead>\n",
       "  <tbody>\n",
       "    <tr>\n",
       "      <th>2</th>\n",
       "      <td>285000.0</td>\n",
       "      <td>HTML/CSS;JavaScript;Python</td>\n",
       "      <td>USA</td>\n",
       "    </tr>\n",
       "    <tr>\n",
       "      <th>14</th>\n",
       "      <td>150000.0</td>\n",
       "      <td>C;C++;Python;Rust</td>\n",
       "      <td>USA</td>\n",
       "    </tr>\n",
       "    <tr>\n",
       "      <th>111</th>\n",
       "      <td>145000.0</td>\n",
       "      <td>HTML/CSS;JavaScript;Python;TypeScript</td>\n",
       "      <td>USA</td>\n",
       "    </tr>\n",
       "    <tr>\n",
       "      <th>122</th>\n",
       "      <td>200990.0</td>\n",
       "      <td>Go;HTML/CSS;JavaScript;PowerShell;Python;Rust</td>\n",
       "      <td>USA</td>\n",
       "    </tr>\n",
       "    <tr>\n",
       "      <th>138</th>\n",
       "      <td>150000.0</td>\n",
       "      <td>Python;R;SQL</td>\n",
       "      <td>USA</td>\n",
       "    </tr>\n",
       "    <tr>\n",
       "      <th>...</th>\n",
       "      <td>...</td>\n",
       "      <td>...</td>\n",
       "      <td>...</td>\n",
       "    </tr>\n",
       "    <tr>\n",
       "      <th>89079</th>\n",
       "      <td>150000.0</td>\n",
       "      <td>C;C++;Go;HTML/CSS;Java;JavaScript;MATLAB;Python;Rust;SQL;TypeScript</td>\n",
       "      <td>USA</td>\n",
       "    </tr>\n",
       "    <tr>\n",
       "      <th>89087</th>\n",
       "      <td>182333.0</td>\n",
       "      <td>Bash/Shell (all shells);HTML/CSS;JavaScript;Python;SQL;TypeScript</td>\n",
       "      <td>USA</td>\n",
       "    </tr>\n",
       "    <tr>\n",
       "      <th>89113</th>\n",
       "      <td>187000.0</td>\n",
       "      <td>C#;HTML/CSS;JavaScript;Python;Ruby;TypeScript</td>\n",
       "      <td>USA</td>\n",
       "    </tr>\n",
       "    <tr>\n",
       "      <th>89114</th>\n",
       "      <td>200000.0</td>\n",
       "      <td>Bash/Shell (all shells);Go;HTML/CSS;Java;JavaScript;Objective-C;PHP;PowerShell;Python;SQL;TypeScript</td>\n",
       "      <td>USA</td>\n",
       "    </tr>\n",
       "    <tr>\n",
       "      <th>89140</th>\n",
       "      <td>215000.0</td>\n",
       "      <td>Bash/Shell (all shells);C++;JavaScript;Python</td>\n",
       "      <td>USA</td>\n",
       "    </tr>\n",
       "  </tbody>\n",
       "</table>\n",
       "<p>4973 rows × 3 columns</p>\n",
       "</div>"
      ],
      "text/plain": [
       "            CompTotal  \\\n",
       "ResponseId              \n",
       "2            285000.0   \n",
       "14           150000.0   \n",
       "111          145000.0   \n",
       "122          200990.0   \n",
       "138          150000.0   \n",
       "...               ...   \n",
       "89079        150000.0   \n",
       "89087        182333.0   \n",
       "89113        187000.0   \n",
       "89114        200000.0   \n",
       "89140        215000.0   \n",
       "\n",
       "                                                                                          LanguageHaveWorkedWith  \\\n",
       "ResponseId                                                                                                         \n",
       "2                                                                                     HTML/CSS;JavaScript;Python   \n",
       "14                                                                                             C;C++;Python;Rust   \n",
       "111                                                                        HTML/CSS;JavaScript;Python;TypeScript   \n",
       "122                                                                Go;HTML/CSS;JavaScript;PowerShell;Python;Rust   \n",
       "138                                                                                                 Python;R;SQL   \n",
       "...                                                                                                          ...   \n",
       "89079                                        C;C++;Go;HTML/CSS;Java;JavaScript;MATLAB;Python;Rust;SQL;TypeScript   \n",
       "89087                                          Bash/Shell (all shells);HTML/CSS;JavaScript;Python;SQL;TypeScript   \n",
       "89113                                                              C#;HTML/CSS;JavaScript;Python;Ruby;TypeScript   \n",
       "89114       Bash/Shell (all shells);Go;HTML/CSS;Java;JavaScript;Objective-C;PHP;PowerShell;Python;SQL;TypeScript   \n",
       "89140                                                              Bash/Shell (all shells);C++;JavaScript;Python   \n",
       "\n",
       "           Country  \n",
       "ResponseId          \n",
       "2              USA  \n",
       "14             USA  \n",
       "111            USA  \n",
       "122            USA  \n",
       "138            USA  \n",
       "...            ...  \n",
       "89079          USA  \n",
       "89087          USA  \n",
       "89113          USA  \n",
       "89114          USA  \n",
       "89140          USA  \n",
       "\n",
       "[4973 rows x 3 columns]"
      ]
     },
     "execution_count": 10,
     "metadata": {},
     "output_type": "execute_result"
    }
   ],
   "source": [
    "filt = ((df['CompTotal']>96000) & (df['Country']=='USA') & (df['LanguageHaveWorkedWith'].str.contains('Python' , na=False)))\n",
    "df.loc[filt,['CompTotal','LanguageHaveWorkedWith','Country']]"
   ]
  },
  {
   "cell_type": "code",
   "execution_count": 11,
   "id": "8aaf9236-9325-4cbe-90f1-ad8c3d421b83",
   "metadata": {},
   "outputs": [],
   "source": [
    "#How to reorder columns:\n",
    "#df['column1'],df['column2'] = df['column2'],df['column1']"
   ]
  },
  {
   "cell_type": "code",
   "execution_count": 12,
   "id": "66a273be-4872-4194-b76d-93d2cd695f8b",
   "metadata": {},
   "outputs": [],
   "source": [
    "'''There are couple of columns that aren't necessary that named knowledge_1,2 and ... and their existence just make our\n",
    "dataframe nasty so let's create a function that will erase them for us.'''\n",
    "\n",
    "def erase(*args):\n",
    "    for arg in args:      \n",
    "        for col in df.columns:\n",
    "            if arg in col:\n",
    "                df.drop(col, axis=1 , inplace = True)"
   ]
  },
  {
   "cell_type": "code",
   "execution_count": 13,
   "id": "bbd4410c-a88b-41f5-8651-da93193f81b7",
   "metadata": {},
   "outputs": [
    {
     "data": {
      "text/plain": [
       "(89184, 83)"
      ]
     },
     "execution_count": 13,
     "metadata": {},
     "output_type": "execute_result"
    }
   ],
   "source": [
    "#Before erasing\n",
    "df.shape"
   ]
  },
  {
   "cell_type": "code",
   "execution_count": 14,
   "id": "ab5aaf77-b7be-4bae-9199-660e67220574",
   "metadata": {},
   "outputs": [
    {
     "data": {
      "text/plain": [
       "(89184, 72)"
      ]
     },
     "execution_count": 14,
     "metadata": {},
     "output_type": "execute_result"
    }
   ],
   "source": [
    "erase('Knowledge_','Frequency_')\n",
    "df.shape\n",
    "#After erasing"
   ]
  },
  {
   "cell_type": "code",
   "execution_count": 15,
   "id": "34df471c-d7ce-4096-9115-9884aef5fad2",
   "metadata": {},
   "outputs": [],
   "source": [
    "del df['Q120']"
   ]
  },
  {
   "cell_type": "code",
   "execution_count": 16,
   "id": "316ec65c-35d2-4593-b084-9682d5b6c03c",
   "metadata": {},
   "outputs": [
    {
     "data": {
      "text/plain": [
       "Country\n",
       "USA     18647\n",
       "Iran      577\n",
       "Name: count, dtype: int64"
      ]
     },
     "execution_count": 16,
     "metadata": {},
     "output_type": "execute_result"
    }
   ],
   "source": [
    "df.loc[df['Country'].isin(['Iran','USA']),'Country'].value_counts()"
   ]
  },
  {
   "cell_type": "code",
   "execution_count": 17,
   "id": "5ead081d-dbf4-4d8a-b0e2-a0d6f63998aa",
   "metadata": {},
   "outputs": [
    {
     "name": "stdout",
     "output_type": "stream",
     "text": [
      "<class 'pandas.core.series.Series'>\n",
      "Index: 89184 entries, 1 to 89184\n",
      "Series name: Country\n",
      "Non-Null Count  Dtype \n",
      "--------------  ----- \n",
      "87973 non-null  object\n",
      "dtypes: object(1)\n",
      "memory usage: 1.4+ MB\n"
     ]
    }
   ],
   "source": [
    "df['Country'].info()"
   ]
  },
  {
   "cell_type": "code",
   "execution_count": null,
   "id": "7a267504-cd1d-4ca4-b543-7bbbce70368f",
   "metadata": {},
   "outputs": [],
   "source": []
  }
 ],
 "metadata": {
  "kernelspec": {
   "display_name": "Python 3 (ipykernel)",
   "language": "python",
   "name": "python3"
  },
  "language_info": {
   "codemirror_mode": {
    "name": "ipython",
    "version": 3
   },
   "file_extension": ".py",
   "mimetype": "text/x-python",
   "name": "python",
   "nbconvert_exporter": "python",
   "pygments_lexer": "ipython3",
   "version": "3.11.0"
  }
 },
 "nbformat": 4,
 "nbformat_minor": 5
}
